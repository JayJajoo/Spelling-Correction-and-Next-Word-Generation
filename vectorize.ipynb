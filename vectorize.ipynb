{
 "cells": [
  {
   "cell_type": "code",
   "execution_count": 39,
   "metadata": {},
   "outputs": [],
   "source": [
    "import torch\n",
    "import torch.nn as nn\n",
    "import pandas as pd\n",
    "import numpy as np\n",
    "from torch.utils.data import DataLoader, Dataset\n",
    "import nmslib"
   ]
  },
  {
   "cell_type": "code",
   "execution_count": 40,
   "metadata": {},
   "outputs": [],
   "source": [
    "class WordDataset(Dataset):\n",
    "    def __init__(self, words):\n",
    "        \"\"\"\n",
    "        Initializes the dataset with a list of words.\n",
    "        :param words: List of words to be converted into OHE tensors.\n",
    "        \"\"\"\n",
    "        self.words = [word.lower() for word in words if isinstance(word, str)]\n",
    "        \n",
    "        # Vocabulary setup\n",
    "        self.vocab = \"abcdefghijklmnopqrstuvwxyz\"\n",
    "        self.vocab_size = len(self.vocab) + 1  # +1 for unknown characters\n",
    "        self.ctoi = {char: idx for idx, char in enumerate(self.vocab)}\n",
    "        \n",
    "        # One-Hot Encoding Matrix\n",
    "        self.create_OHE()\n",
    "    \n",
    "    def create_OHE(self):\n",
    "        \"\"\"Creates a One-Hot Encoding matrix for the vocabulary.\"\"\"\n",
    "        self.OHE = torch.eye(self.vocab_size)  # Identity matrix for one-hot encoding\n",
    "    \n",
    "    def get_OHE(self, word):\n",
    "        \"\"\"Converts a word into a one-hot encoding tensor.\"\"\"\n",
    "        emb = [self.OHE[self.ctoi.get(char, self.vocab_size - 1)] for char in word]\n",
    "        return torch.stack(emb) if emb else torch.zeros((1, self.vocab_size))\n",
    "    \n",
    "    def __len__(self):\n",
    "        return len(self.words)\n",
    "    \n",
    "    def __getitem__(self, idx):\n",
    "        \"\"\"Returns One-Hot Encoding tensor for a word.\"\"\"\n",
    "        return self.get_OHE(self.words[idx])\n",
    "\n",
    "def collate_fn(batch):\n",
    "    \"\"\"Pads sequences in a batch to the max length in the batch.\"\"\"\n",
    "    max_len = max(word.shape[0] for word in batch)\n",
    "    vocab_size = batch[0].shape[1]\n",
    "    pad_tensor = torch.zeros((max_len, vocab_size))\n",
    "    \n",
    "    padded_batch = [torch.cat((word, pad_tensor[:max_len - word.shape[0]]), dim=0) for word in batch]\n",
    "    \n",
    "    return torch.stack(padded_batch)"
   ]
  },
  {
   "cell_type": "code",
   "execution_count": 33,
   "metadata": {},
   "outputs": [],
   "source": [
    "class CustomModel(nn.Module):\n",
    "    def __init__(self, vocab_size=27, emb_dim=300, num_epochs=15, lr=0.001):\n",
    "        super().__init__()\n",
    "\n",
    "        self.vocab = \"abcdefghijklmnopqrstuvwxyz\"\n",
    "        self.vocab_size = len(self.vocab) + 1\n",
    "        self.ctoi = {char: idx for idx, char in enumerate(self.vocab)}\n",
    "\n",
    "        self.num_epochs = num_epochs\n",
    "        self.vocab_size = vocab_size\n",
    "        self.lstm1 = nn.LSTM(input_size=self.vocab_size, hidden_size=emb_dim, batch_first=True)\n",
    "        self.lstm2 = nn.LSTM(input_size=emb_dim, hidden_size=emb_dim, batch_first=True)\n",
    "        self.fc = nn.Linear(1, 1)\n",
    "\n",
    "        self.loss_fn = nn.L1Loss()\n",
    "        self.optimizer = torch.optim.Adam(self.parameters(), lr=lr)\n",
    "\n",
    "        self.device = torch.device('cuda' if torch.cuda.is_available() else 'cpu')\n",
    "        self.to(self.device)  \n",
    "\n",
    "        \n",
    "        self.create_OHE()\n",
    "\n",
    "    def create_OHE(self):\n",
    "        \"\"\"Creates a One-Hot Encoding matrix for the vocabulary.\"\"\"\n",
    "        self.OHE = torch.zeros((self.vocab_size, self.vocab_size))\n",
    "        for i in range(self.vocab_size):\n",
    "            self.OHE[i, i] = 1\n",
    "\n",
    "    def get_OHE(self, word):\n",
    "        \"\"\"Converts a word into a one-hot encoding tensor.\"\"\"\n",
    "        emb = [self.OHE[self.ctoi.get(char, self.vocab_size - 1)] for char in word]\n",
    "        return torch.stack(emb)\n",
    "    \n",
    "    def fit(self, batched_data):\n",
    "        for epoch in range(self.num_epochs):\n",
    "            epoch_loss = 0.0\n",
    "            for x1, x2, target_batch in batched_data:\n",
    "                x1, x2, target_batch = x1.to(self.device), x2.to(self.device), target_batch.to(self.device)\n",
    "\n",
    "                self.optimizer.zero_grad()\n",
    "\n",
    "                outputs = self.forward(x1, x2)\n",
    "                loss = self.loss_fn(outputs, target_batch)\n",
    "                loss.backward()\n",
    "                self.optimizer.step()\n",
    "\n",
    "                epoch_loss += loss.item()\n",
    "\n",
    "            print(f\"{epoch+1}/{self.num_epochs} - Loss: {epoch_loss / len(batched_data)}\")\n",
    "\n",
    "    def get_embedding(self, x):\n",
    "        out1, _ = self.lstm1(x)\n",
    "        out2, (hn, _) = self.lstm2(out1)\n",
    "        return hn.squeeze(0) \n",
    "\n",
    "    def forward(self, x1, x2):\n",
    "        emb1 = self.get_embedding(x1)\n",
    "        emb2 = self.get_embedding(x2)\n",
    "\n",
    "        diff = emb1 - emb2\n",
    "        squared_norm = torch.sum(diff ** 2, dim=1, keepdim=True)\n",
    "\n",
    "        out = torch.sigmoid(self.fc(squared_norm))\n",
    "        return out\n",
    "    \n",
    "    def save_model(self, model_name):\n",
    "        torch.save(self.state_dict(), model_name)\n",
    "        print(f\"Model saved to {model_name}\")\n",
    "\n",
    "    def load_model(self, model_name):\n",
    "        self.load_state_dict(torch.load(model_name))\n",
    "        self.eval()  # Set the model to evaluation mode after loading\n",
    "        print(f\"Model loaded from {model_name}\")"
   ]
  },
  {
   "cell_type": "code",
   "execution_count": 41,
   "metadata": {},
   "outputs": [
    {
     "name": "stdout",
     "output_type": "stream",
     "text": [
      "Model loaded from ./saved_model/char2vec.pth\n"
     ]
    },
    {
     "name": "stderr",
     "output_type": "stream",
     "text": [
      "C:\\Users\\LEGION\\AppData\\Local\\Temp\\ipykernel_10548\\2338055740.py:72: FutureWarning: You are using `torch.load` with `weights_only=False` (the current default value), which uses the default pickle module implicitly. It is possible to construct malicious pickle data which will execute arbitrary code during unpickling (See https://github.com/pytorch/pytorch/blob/main/SECURITY.md#untrusted-models for more details). In a future release, the default value for `weights_only` will be flipped to `True`. This limits the functions that could be executed during unpickling. Arbitrary objects will no longer be allowed to be loaded via this mode unless they are explicitly allowlisted by the user via `torch.serialization.add_safe_globals`. We recommend you start setting `weights_only=True` for any use case where you don't have full control of the loaded file. Please open an issue on GitHub for any issues related to this experimental feature.\n",
      "  self.load_state_dict(torch.load(model_name))\n"
     ]
    },
    {
     "data": {
      "text/plain": [
       "CustomModel(\n",
       "  (lstm1): LSTM(27, 300, batch_first=True)\n",
       "  (lstm2): LSTM(300, 300, batch_first=True)\n",
       "  (fc): Linear(in_features=1, out_features=1, bias=True)\n",
       "  (loss_fn): L1Loss()\n",
       ")"
      ]
     },
     "execution_count": 41,
     "metadata": {},
     "output_type": "execute_result"
    }
   ],
   "source": [
    "loaded_model = CustomModel() \n",
    "loaded_model.load_model(\"./saved_model/char2vec.pth\")\n",
    "loaded_model"
   ]
  },
  {
   "cell_type": "code",
   "execution_count": 42,
   "metadata": {},
   "outputs": [],
   "source": [
    "words = ['cattle', 'beautiful', 'input', 'daring', 'predict', 'giraffe', 'blend', 'simplify', 'knack', 'parent', 'elevate', 'incentive', 'gather', 'clumsy', 'zoom', 'aluminum', 'example', 'town', 'clerk', 'work', 'disease', 'solve', 'change', 'flavor', 'vase', 'attach', 'assemble', 'interest', 'react', 'wince', 'show', 'sensitive', 'mount', 'luck', 'wager', 'pretty', 'aspect', 'camera', 'zodiac', 'zinc', 'explore', 'mile', 'grid', 'poor', 'violent', 'absorb', 'desire', 'zero', 'charitable', 'tolerate', 'doubt', 'guitar', 'enrich', 'clamp', 'across', 'active', 'friend', 'feature', 'never', 'blanket', 'middle', 'flood', 'kitchen', 'candidate', 'cease', 'leads', 'bravery', 'rescue', 'outdoor', 'update', 'trust', 'neutral', 'mobile', 'roam', 'dance', 'bitter', 'energy', 'together', 'discover', 'couch', 'link', 'model', 'finance', 'citizen', 'horizon', 'cliff', 'ability', 'cool', 'latter', 'exhibit', 'relate', 'crisis', 'enemy', 'arrange', 'project', 'rate', 'zone', 'visit', 'combine', 'athlete', 'clock', 'hurdle', 'banker', 'brisk', 'stranger', 'buy', 'skip', 'assess', 'carbon', 'console', 'alike', 'waste', 'expect', 'emerge', 'drink', 'house', 'false', 'death', 'youth', 'rival', 'explode', 'wonder', 'heart', 'myth', 'tension', 'charm', 'expose', 'result', 'stabilize', 'synthesis', 'jumpy', 'excel', 'community', 'combat', 'error', 'bake', 'return', 'record', 'accept', 'meadow', 'create', 'bottle', 'favor', 'private', 'actor', 'demand', 'dear', 'chamber', 'warn', 'puppet', 'academy', 'collect', 'store', 'worse', 'variable', 'ride', 'human', 'excited', 'text', 'vote', 'debt', 'yearly', 'natural', 'improve', 'imagine', 'occupy', 'stuck', 'flame', 'forward', 'society', 'your', 'jump', 'mental', 'volume', 'advance', 'lacks', 'yell', 'judge', 'cage', 'hospital', 'billion', 'barrier', 'primary', 'season', 'clean', 'spirit', 'grace', 'crown', 'leader', 'court', 'winter', 'formula', 'run', 'stiff', 'shelter', 'depth', 'peach', 'resource', 'engage', 'mention', 'better', 'dangerous', 'review', 'obtain', 'noble', 'clue', 'truth', 'stare', 'attack', 'student', 'health', 'agency', 'literary', 'average', 'wish', 'action', 'accuse', 'abuse', 'yellow', 'common', 'bicycle', 'habit', 'smell', 'impress', 'quality', 'profit', 'trade', 'mild', 'clash', 'place', 'wheel', 'listen', 'fitness', 'eternal', 'order', 'fluent', 'tourist', 'picture', 'shine', 'fishing', 'social', 'stress', 'whole', 'bargain', 'bizarre', 'chill', 'survive', 'calibrate', 'biology', 'appliance', 'foolish', 'kite', 'cloud', 'nature', 'tender', 'image', 'exact', 'vacation', 'reduce', 'universe', 'amount', 'experiment', 'limit', 'humor', 'front', 'apply', 'anxiety', 'artist', 'bricks', 'post', 'belief', 'journal', 'public', 'noir', 'fantastic', 'garden', 'future', 'yoga', 'select', 'object', 'effect', 'toll', 'element', 'vary', 'diverse', 'approach', 'allege', 'navigate', 'start', 'begin', 'morning', 'choice', 'approve', 'smart', 'elate', 'airport', 'angry', 'balloon', 'single', 'justify', 'fruit', 'vast', 'further', 'become', 'support', 'school', 'mind', 'compete', 'government', 'anniversary', 'notable', 'agree', 'utility', 'essay', 'control', 'position', 'value', 'voice', 'class', 'custom', 'issue', 'mature', 'symbol', 'lemon', 'joke', 'doubtful', 'blink', 'council', 'snow', 'restore', 'edgy', 'group', 'honor', 'allergy', 'tackle', 'plane', 'piano', 'adapt', 'earth', 'damage', 'neat', 'believe', 'transport', 'allegiance', 'option', 'danger', 'test', 'cherry', 'study', 'welcome', 'reason', 'total', 'trouble', 'fact', 'commerce', 'jolly', 'vision', 'program', 'system', 'enforce', 'cheap', 'vivid', 'mansion', 'table', 'found', 'knight', 'yarn', 'aware', 'advice', 'verify', 'cancer', 'company', 'commodity', 'lives', 'impact', 'account', 'outcome', 'respect', 'mob', 'runway', 'architecture', 'careful', 'outline', 'trick', 'chance', 'silent', 'badly', 'workshop', 'address', 'affect', 'life', 'focus', 'today', 'celebrate', 'weary', 'entry', 'near', 'excuse', 'decade', 'unit', 'quote', 'allies', 'notice', 'water', 'other', 'wave', 'argue', 'clarify', 'classic', 'journey', 'calm', 'guard', 'sense', 'beyond', 'migrate', 'applause', 'beauty', 'accident', 'brother', 'alter', 'threat', 'reach', 'duty', 'bachelor', 'mice', 'brown', 'plenty', 'absence', 'union', 'price', 'roar', 'deficit', 'move', 'policy', 'joyful', 'density', 'banish', 'virus', 'river', 'taste', 'climate', 'event', 'king', 'equal', 'moment', 'target', 'cube', 'yes', 'logic', 'gesture', 'true', 'stock', 'divide', 'western', 'laugh', 'minute', 'celestial', 'rain', 'open', 'moral', 'devil', 'expand', 'mail', 'prove', 'type', 'access', 'remove', 'budget', 'peace', 'witness', 'asset', 'delicate', 'pulse', 'charter', 'point', 'inspire', 'anger', 'difference', 'grate', 'freedom', 'comet', 'station', 'current', 'juror', 'already', 'tooth', 'personal', 'outer', 'partner', 'suffer', 'ideal', 'knee', 'older', 'color', 'close', 'tempt', 'walk', 'obese', 'mourn', 'assault', 'worker', 'harsh', 'scare', 'adopt', 'ready', 'dominate', 'happen', 'absent', 'privacy', 'ignore', 'magic', 'method', 'scale', 'settle', 'host', 'fashion', 'debate', 'gender', 'tonight', 'breathe', 'guilt', 'cycle', 'moat', 'vibe', 'teeth', 'unite', 'against', 'analysis', 'chicken', 'bother', 'mask', 'global', 'trend', 'analyze', 'nail', 'provoke', 'cabin', 'assistant', 'unique', 'rosy', 'slope', 'street', 'ancient', 'abandon', 'step', 'sick', 'deal', 'yesterday', 'array', 'march', 'defend', 'dungeon', 'pattern', 'round', 'majority', 'motel', 'smooth', 'adult', 'appeal', 'sound', 'bring', 'recall', 'ladder', 'culture', 'design', 'news', 'dialogue', 'oxygen', 'alert', 'almost', 'torch', 'whisper', 'hike', 'separate', 'learn', 'market', 'label', 'catch', 'final', 'dreamer', 'handle', 'buyer', 'brief', 'forecast', 'cousin', 'acquire', 'second', 'query', 'agile', 'knock', 'power', 'advantage', 'fine', 'lender', 'pet', 'capture', 'orange', 'planet', 'june', 'fetch', 'flock', 'zebra', 'brand', 'occasions', 'team', 'kiss']"
   ]
  },
  {
   "cell_type": "code",
   "execution_count": 43,
   "metadata": {},
   "outputs": [],
   "source": [
    "dataset = WordDataset(words)\n",
    "dataloader = DataLoader(dataset, batch_size=128, collate_fn=collate_fn)"
   ]
  },
  {
   "cell_type": "code",
   "execution_count": 44,
   "metadata": {},
   "outputs": [],
   "source": [
    "for index, batch in enumerate(dataloader):\n",
    "    batch_embds = loaded_model.get_embedding(batch.to(loaded_model.device))\n",
    "    if index == 0:\n",
    "        embds = batch_embds  \n",
    "    else:\n",
    "        embds = torch.cat((embds, batch_embds), dim=0)  "
   ]
  },
  {
   "cell_type": "code",
   "execution_count": 45,
   "metadata": {},
   "outputs": [
    {
     "data": {
      "text/plain": [
       "torch.Size([606, 300])"
      ]
     },
     "execution_count": 45,
     "metadata": {},
     "output_type": "execute_result"
    }
   ],
   "source": [
    "embds.shape"
   ]
  },
  {
   "cell_type": "code",
   "execution_count": 46,
   "metadata": {},
   "outputs": [],
   "source": [
    "index = nmslib.init(method=\"hnsw\", space=\"cosinesimil\")\n",
    "index.addDataPointBatch(embds.detach().cpu())\n",
    "index.createIndex({'post': 2}, print_progress=False)\n",
    "\n",
    "# Save index and word list\n",
    "index.saveIndex(\"./saved_model/word_index.bin\", save_data=True)\n",
    "np.save(\"./saved_model/word_list.npy\", words)  # Save word order\n"
   ]
  },
  {
   "cell_type": "code",
   "execution_count": 47,
   "metadata": {},
   "outputs": [],
   "source": [
    "index = nmslib.init(method=\"hnsw\", space=\"cosinesimil\")\n",
    "index.loadIndex(\"./saved_model/word_index.bin\", load_data=True)\n",
    "words = np.load(\"./saved_model/word_list.npy\", allow_pickle=True)"
   ]
  },
  {
   "cell_type": "code",
   "execution_count": 48,
   "metadata": {},
   "outputs": [],
   "source": [
    "query_vector = loaded_model.get_embedding(loaded_model.get_OHE(\"acquery\").to(loaded_model.device))"
   ]
  },
  {
   "cell_type": "code",
   "execution_count": 49,
   "metadata": {},
   "outputs": [
    {
     "name": "stdout",
     "output_type": "stream",
     "text": [
      "['acquire', 'academy', 'query'] [0.27343154 0.31734115 0.31778264]\n"
     ]
    }
   ],
   "source": [
    "ids, distances = index.knnQuery(query_vector.detach().cpu(), k=3)\n",
    "print([words[i] for i in ids], distances)"
   ]
  }
 ],
 "metadata": {
  "kernelspec": {
   "display_name": "PT38",
   "language": "python",
   "name": "python3"
  },
  "language_info": {
   "codemirror_mode": {
    "name": "ipython",
    "version": 3
   },
   "file_extension": ".py",
   "mimetype": "text/x-python",
   "name": "python",
   "nbconvert_exporter": "python",
   "pygments_lexer": "ipython3",
   "version": "3.8.20"
  }
 },
 "nbformat": 4,
 "nbformat_minor": 2
}
