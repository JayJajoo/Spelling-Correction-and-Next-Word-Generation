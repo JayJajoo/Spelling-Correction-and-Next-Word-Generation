{
 "cells": [
  {
   "cell_type": "code",
   "execution_count": 5,
   "metadata": {},
   "outputs": [],
   "source": [
    "import torch\n",
    "import torch.nn as nn\n",
    "import pandas as pd\n",
    "import numpy as np\n",
    "from torch.utils.data import DataLoader, Dataset\n",
    "import nmslib"
   ]
  },
  {
   "cell_type": "code",
   "execution_count": 6,
   "metadata": {},
   "outputs": [],
   "source": [
    "class WordDataset(Dataset):\n",
    "    def __init__(self, words):\n",
    "        \"\"\"\n",
    "        Initializes the dataset with a list of words.\n",
    "        :param words: List of words to be converted into OHE tensors.\n",
    "        \"\"\"\n",
    "        self.words = [word.lower() for word in words if isinstance(word, str)]\n",
    "        \n",
    "        # Vocabulary setup\n",
    "        self.vocab = \"abcdefghijklmnopqrstuvwxyz\"\n",
    "        self.vocab_size = len(self.vocab) + 1  # +1 for unknown characters\n",
    "        self.ctoi = {char: idx for idx, char in enumerate(self.vocab)}\n",
    "        \n",
    "        # One-Hot Encoding Matrix\n",
    "        self.create_OHE()\n",
    "    \n",
    "    def create_OHE(self):\n",
    "        \"\"\"Creates a One-Hot Encoding matrix for the vocabulary.\"\"\"\n",
    "        self.OHE = torch.eye(self.vocab_size)  # Identity matrix for one-hot encoding\n",
    "    \n",
    "    def get_OHE(self, word):\n",
    "        \"\"\"Converts a word into a one-hot encoding tensor.\"\"\"\n",
    "        emb = [self.OHE[self.ctoi.get(char, self.vocab_size - 1)] for char in word]\n",
    "        return torch.stack(emb) if emb else torch.zeros((1, self.vocab_size))\n",
    "    \n",
    "    def __len__(self):\n",
    "        return len(self.words)\n",
    "    \n",
    "    def __getitem__(self, idx):\n",
    "        \"\"\"Returns One-Hot Encoding tensor for a word.\"\"\"\n",
    "        return self.get_OHE(self.words[idx])\n",
    "\n",
    "def collate_fn(batch):\n",
    "    \"\"\"Pads sequences in a batch to the max length in the batch.\"\"\"\n",
    "    max_len = max(word.shape[0] for word in batch)\n",
    "    vocab_size = batch[0].shape[1]\n",
    "    pad_tensor = torch.zeros((max_len, vocab_size))\n",
    "    \n",
    "    padded_batch = [torch.cat((word, pad_tensor[:max_len - word.shape[0]]), dim=0) for word in batch]\n",
    "    \n",
    "    return torch.stack(padded_batch)"
   ]
  },
  {
   "cell_type": "code",
   "execution_count": 7,
   "metadata": {},
   "outputs": [],
   "source": [
    "class CustomModel(nn.Module):\n",
    "    def __init__(self, vocab_size=27, emb_dim=100, num_epochs=15, lr=0.001):\n",
    "        super().__init__()\n",
    "\n",
    "        self.vocab = \"abcdefghijklmnopqrstuvwxyz\"\n",
    "        self.vocab_size = len(self.vocab) + 1\n",
    "        self.ctoi = {char: idx for idx, char in enumerate(self.vocab)}\n",
    "\n",
    "        self.num_epochs = num_epochs\n",
    "        self.vocab_size = vocab_size\n",
    "        self.lstm1 = nn.LSTM(input_size=self.vocab_size, hidden_size=emb_dim, batch_first=True)\n",
    "        self.lstm2 = nn.LSTM(input_size=emb_dim, hidden_size=emb_dim, batch_first=True)\n",
    "        self.fc = nn.Linear(1, 1)\n",
    "\n",
    "        self.loss_fn = nn.L1Loss()\n",
    "        self.optimizer = torch.optim.Adam(self.parameters(), lr=lr)\n",
    "\n",
    "        self.device = torch.device('cuda' if torch.cuda.is_available() else 'cpu')\n",
    "        self.to(self.device)  \n",
    "\n",
    "        \n",
    "        self.create_OHE()\n",
    "\n",
    "    def create_OHE(self):\n",
    "        \"\"\"Creates a One-Hot Encoding matrix for the vocabulary.\"\"\"\n",
    "        self.OHE = torch.zeros((self.vocab_size, self.vocab_size))\n",
    "        for i in range(self.vocab_size):\n",
    "            self.OHE[i, i] = 1\n",
    "\n",
    "    def get_OHE(self, word):\n",
    "        \"\"\"Converts a word into a one-hot encoding tensor.\"\"\"\n",
    "        emb = [self.OHE[self.ctoi.get(char, self.vocab_size - 1)] for char in word]\n",
    "        return torch.stack(emb)\n",
    "    \n",
    "    def fit(self, batched_data):\n",
    "        for epoch in range(self.num_epochs):\n",
    "            epoch_loss = 0.0\n",
    "            for x1, x2, target_batch in batched_data:\n",
    "                x1, x2, target_batch = x1.to(self.device), x2.to(self.device), target_batch.to(self.device)\n",
    "\n",
    "                self.optimizer.zero_grad()\n",
    "\n",
    "                outputs = self.forward(x1, x2)\n",
    "                loss = self.loss_fn(outputs, target_batch)\n",
    "                loss.backward()\n",
    "                self.optimizer.step()\n",
    "\n",
    "                epoch_loss += loss.item()\n",
    "\n",
    "            print(f\"{epoch+1}/{self.num_epochs} - Loss: {epoch_loss / len(batched_data)}\")\n",
    "\n",
    "    def get_embedding(self, x):\n",
    "        out1, _ = self.lstm1(x)\n",
    "        out2, (hn, _) = self.lstm2(out1)\n",
    "        return hn.squeeze(0) \n",
    "\n",
    "    def forward(self, x1, x2):\n",
    "        emb1 = self.get_embedding(x1)\n",
    "        emb2 = self.get_embedding(x2)\n",
    "\n",
    "        diff = emb1 - emb2\n",
    "        squared_norm = torch.sum(diff ** 2, dim=1, keepdim=True)\n",
    "\n",
    "        out = torch.sigmoid(self.fc(squared_norm))\n",
    "        return out\n",
    "    \n",
    "    def save_model(self, model_name):\n",
    "        torch.save(self.state_dict(), model_name)\n",
    "        print(f\"Model saved to {model_name}\")\n",
    "\n",
    "    def load_model(self, model_name):\n",
    "        self.load_state_dict(torch.load(model_name))\n",
    "        self.eval()  # Set the model to evaluation mode after loading\n",
    "        print(f\"Model loaded from {model_name}\")"
   ]
  },
  {
   "cell_type": "code",
   "execution_count": 8,
   "metadata": {},
   "outputs": [
    {
     "name": "stdout",
     "output_type": "stream",
     "text": [
      "Model loaded from ./saved_model_3/char2vec.pth\n"
     ]
    },
    {
     "name": "stderr",
     "output_type": "stream",
     "text": [
      "C:\\Users\\LEGION\\AppData\\Local\\Temp\\ipykernel_10332\\1059089847.py:72: FutureWarning: You are using `torch.load` with `weights_only=False` (the current default value), which uses the default pickle module implicitly. It is possible to construct malicious pickle data which will execute arbitrary code during unpickling (See https://github.com/pytorch/pytorch/blob/main/SECURITY.md#untrusted-models for more details). In a future release, the default value for `weights_only` will be flipped to `True`. This limits the functions that could be executed during unpickling. Arbitrary objects will no longer be allowed to be loaded via this mode unless they are explicitly allowlisted by the user via `torch.serialization.add_safe_globals`. We recommend you start setting `weights_only=True` for any use case where you don't have full control of the loaded file. Please open an issue on GitHub for any issues related to this experimental feature.\n",
      "  self.load_state_dict(torch.load(model_name))\n"
     ]
    },
    {
     "data": {
      "text/plain": [
       "CustomModel(\n",
       "  (lstm1): LSTM(27, 100, batch_first=True)\n",
       "  (lstm2): LSTM(100, 100, batch_first=True)\n",
       "  (fc): Linear(in_features=1, out_features=1, bias=True)\n",
       "  (loss_fn): L1Loss()\n",
       ")"
      ]
     },
     "execution_count": 8,
     "metadata": {},
     "output_type": "execute_result"
    }
   ],
   "source": [
    "loaded_model = CustomModel() \n",
    "loaded_model.load_model(\"./saved_model_3/char2vec.pth\")\n",
    "loaded_model"
   ]
  },
  {
   "cell_type": "code",
   "execution_count": 9,
   "metadata": {},
   "outputs": [],
   "source": [
    "# dataset = pd.read_csv(\"./datasets/dict.csv\")\n",
    "# words = dataset[\"word\"]\n",
    "# words = list(set(words.to_numpy()))\n",
    "# words = [item for item in words if isinstance(item, str) and len(item)>2]\n",
    "\n",
    "words = np.load(\"./datasets/text_unique_tokens.npy\",allow_pickle = True) "
   ]
  },
  {
   "cell_type": "code",
   "execution_count": 10,
   "metadata": {},
   "outputs": [],
   "source": [
    "dataset = WordDataset(words)\n",
    "dataloader = DataLoader(dataset, batch_size=128, collate_fn=collate_fn)"
   ]
  },
  {
   "cell_type": "code",
   "execution_count": 11,
   "metadata": {},
   "outputs": [],
   "source": [
    "for index, batch in enumerate(dataloader):\n",
    "    batch_embds = loaded_model.get_embedding(batch.to(loaded_model.device))\n",
    "    if index == 0:\n",
    "        embds = batch_embds  \n",
    "    else:\n",
    "        embds = torch.cat((embds, batch_embds), dim=0)  "
   ]
  },
  {
   "cell_type": "code",
   "execution_count": 12,
   "metadata": {},
   "outputs": [
    {
     "data": {
      "text/plain": [
       "torch.Size([8001, 100])"
      ]
     },
     "execution_count": 12,
     "metadata": {},
     "output_type": "execute_result"
    }
   ],
   "source": [
    "embds.shape"
   ]
  },
  {
   "cell_type": "code",
   "execution_count": 13,
   "metadata": {},
   "outputs": [],
   "source": [
    "index = nmslib.init(method=\"hnsw\", space=\"cosinesimil\")\n",
    "index.addDataPointBatch(embds.detach().cpu())\n",
    "index.createIndex({'post': 2}, print_progress=False)\n",
    "\n",
    "# Save index and word list\n",
    "index.saveIndex(\"./saved_model_3/word_index.bin\", save_data=True)\n",
    "np.save(\"./saved_model_3/word_list.npy\", words)  # Save word order"
   ]
  },
  {
   "cell_type": "code",
   "execution_count": 14,
   "metadata": {},
   "outputs": [],
   "source": [
    "index = nmslib.init(method=\"hnsw\", space=\"cosinesimil\")\n",
    "index.loadIndex(\"./saved_model_3/word_index.bin\", load_data=True)\n",
    "words = np.load(\"./saved_model_3/word_list.npy\", allow_pickle=True)"
   ]
  },
  {
   "cell_type": "code",
   "execution_count": 28,
   "metadata": {},
   "outputs": [],
   "source": [
    "query_vector = loaded_model.get_embedding(loaded_model.get_OHE(\"fuck\").to(loaded_model.device))"
   ]
  },
  {
   "cell_type": "code",
   "execution_count": 29,
   "metadata": {},
   "outputs": [
    {
     "name": "stdout",
     "output_type": "stream",
     "text": [
      "['stuck', 'luck', 'jack', 'tack', 'dock', 'such', 'touch', 'pluck', 'thick', 'quick', 'struck', 'much', 'neck', 'rack', 'sick', 'back', 'pick', 'lack', 'stick', 'track', 'lock', 'bunch', 'unpack', 'pack', 'stock', 'lunch', 'trick', 'sunk', 'flock', 'drunk', 'frock', 'each', 'wrack', 'hum', 'shock', 'trunk', 'teach', 'lucky', 'dark', 'dusk', 'bark', 'dank', 'rank', 'smack', 'park', 'couch', 'hugh', 'ink', 'black', 'prick', 'cock', 'knock', 'pinch', 'thank', 'block', 'think', 'fetch', 'brick', 'munich', 'bank', 'frank', 'crack', 'oak', 'jug', 'which', 'sum', 'lank', 'hawk', 'pink', 'wink', 'check', 'clock', 'though', 'church', 'laugh', 'ask', 'push', 'stark', 'etc', 'weak', 'murky', 'cubic', 'talk', 'cough', 'folk', 'network', 'lucy', 'trough', 'link', 'tricky', 'march', 'hush', 'freak', 'bulky', 'porch', 'branch', 'cusack', 'shrunk', 'disk', 'wreck'] [0.46391565 0.46976966 0.4967293  0.49677145 0.49921048 0.50254285\n",
      " 0.50434566 0.5050125  0.5102318  0.51305234 0.5141005  0.5143329\n",
      " 0.52236605 0.5227592  0.52368224 0.52505124 0.52595973 0.5273286\n",
      " 0.5284471  0.5297543  0.52978706 0.53611034 0.5363221  0.53650063\n",
      " 0.5390395  0.54002494 0.5400764  0.5414633  0.5420545  0.5466263\n",
      " 0.5474417  0.5477278  0.5492501  0.5494275  0.55221045 0.55604756\n",
      " 0.5579383  0.5585673  0.56365764 0.5653806  0.56552213 0.5655832\n",
      " 0.56568366 0.56580013 0.5666709  0.5673918  0.56886935 0.5694945\n",
      " 0.56975317 0.57045555 0.5706439  0.5734122  0.5746418  0.5748391\n",
      " 0.5756912  0.5759305  0.57611215 0.5763576  0.5772879  0.5782391\n",
      " 0.5802021  0.58054    0.5814993  0.5825938  0.5833991  0.58381265\n",
      " 0.5869922  0.5878903  0.59047157 0.59054697 0.59201765 0.5929216\n",
      " 0.593293   0.5934377  0.59464973 0.5954907  0.59662634 0.5983957\n",
      " 0.59863174 0.59877884 0.5997863  0.60273355 0.6046042  0.6057227\n",
      " 0.60582495 0.60687816 0.6070169  0.60721135 0.6073538  0.6082239\n",
      " 0.6085259  0.61056125 0.6108371  0.61128414 0.6124371  0.61293006\n",
      " 0.61354274 0.61502075 0.61553144 0.6179818 ]\n"
     ]
    }
   ],
   "source": [
    "ids, distances = index.knnQuery(query_vector.detach().cpu(), k=100)\n",
    "print([words[i] for i in ids], distances)"
   ]
  },
  {
   "cell_type": "code",
   "execution_count": null,
   "metadata": {},
   "outputs": [],
   "source": []
  }
 ],
 "metadata": {
  "kernelspec": {
   "display_name": "PT38",
   "language": "python",
   "name": "python3"
  },
  "language_info": {
   "codemirror_mode": {
    "name": "ipython",
    "version": 3
   },
   "file_extension": ".py",
   "mimetype": "text/x-python",
   "name": "python",
   "nbconvert_exporter": "python",
   "pygments_lexer": "ipython3",
   "version": "3.8.20"
  }
 },
 "nbformat": 4,
 "nbformat_minor": 2
}
