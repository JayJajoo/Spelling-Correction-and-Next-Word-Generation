{
 "cells": [
  {
   "cell_type": "code",
   "execution_count": 1,
   "metadata": {
    "execution": {
     "iopub.execute_input": "2025-04-03T03:55:35.561932Z",
     "iopub.status.busy": "2025-04-03T03:55:35.561668Z",
     "iopub.status.idle": "2025-04-03T03:55:39.877791Z",
     "shell.execute_reply": "2025-04-03T03:55:39.877002Z",
     "shell.execute_reply.started": "2025-04-03T03:55:35.561910Z"
    },
    "trusted": true
   },
   "outputs": [],
   "source": [
    "import torch\n",
    "import torch.nn as nn\n",
    "import pandas as pd\n",
    "import numpy as np\n",
    "from torch.utils.data import DataLoader, Dataset, random_split\n",
    "import matplotlib.pyplot as plt\n",
    "from sklearn.decomposition import PCA"
   ]
  },
  {
   "cell_type": "code",
   "execution_count": 2,
   "metadata": {
    "execution": {
     "iopub.execute_input": "2025-04-03T03:55:39.879531Z",
     "iopub.status.busy": "2025-04-03T03:55:39.878996Z",
     "iopub.status.idle": "2025-04-03T03:55:39.889137Z",
     "shell.execute_reply": "2025-04-03T03:55:39.888112Z",
     "shell.execute_reply.started": "2025-04-03T03:55:39.879481Z"
    },
    "trusted": true
   },
   "outputs": [],
   "source": [
    "class WordDataset(Dataset):\n",
    "    def __init__(self, csv_path):\n",
    "        # Load the data\n",
    "        self.data = pd.read_csv(csv_path)\n",
    "        \n",
    "        # Preprocess the dataset to remove rows where correct_word or incorrect_word are not strings\n",
    "        self.data = self.data[self.data['Correct Word'].apply(lambda x: isinstance(x, str))]\n",
    "        self.data = self.data[self.data['Incorrect Word'].apply(lambda x: isinstance(x, str))]\n",
    "        \n",
    "        # Vocabulary setup\n",
    "        self.vocab = \"abcdefghijklmnopqrstuvwxyz\"\n",
    "        self.vocab_size = len(self.vocab) + 1\n",
    "        self.ctoi = {char: idx for idx, char in enumerate(self.vocab)}\n",
    "        \n",
    "        # One-Hot Encoding\n",
    "        self.create_OHE()\n",
    "\n",
    "    def create_OHE(self):\n",
    "        \"\"\"Creates a One-Hot Encoding matrix for the vocabulary.\"\"\"\n",
    "        self.OHE = torch.zeros((self.vocab_size, self.vocab_size))\n",
    "        for i in range(self.vocab_size):\n",
    "            self.OHE[i, i] = 1\n",
    "\n",
    "    def get_OHE(self, word):\n",
    "        \"\"\"Converts a word into a one-hot encoding tensor.\"\"\"\n",
    "        emb = [self.OHE[self.ctoi.get(char, self.vocab_size - 1)] for char in word]\n",
    "        return torch.stack(emb)\n",
    "\n",
    "    def __len__(self):\n",
    "        return len(self.data)\n",
    "\n",
    "    def __getitem__(self, idx):\n",
    "        \"\"\"Returns (correct_word, incorrect_word, target) as tensors.\"\"\"\n",
    "        correct_word = self.data.iloc[idx, 0].lower()\n",
    "        incorrect_word = self.data.iloc[idx, 1].lower()\n",
    "        target = torch.tensor([self.data.iloc[idx, 2]], dtype=torch.float32)\n",
    "        return self.get_OHE(correct_word), self.get_OHE(incorrect_word), target\n",
    "\n",
    "def collate_fn(batch):\n",
    "    \"\"\"Pads sequences in a batch to the max length in the batch.\"\"\"\n",
    "    corrects, incorrects, targets = zip(*batch)\n",
    "    \n",
    "    max_len = max(max(c.shape[0] for c in corrects), max(i.shape[0] for i in incorrects))\n",
    "\n",
    "    pad_tensor = torch.zeros((max_len, corrects[0].shape[1]))  # (max_len, vocab_size)\n",
    "    \n",
    "    corrects_padded = [torch.cat((c, pad_tensor[:max_len - c.shape[0]]), dim=0) for c in corrects]\n",
    "    incorrects_padded = [torch.cat((i, pad_tensor[:max_len - i.shape[0]]), dim=0) for i in incorrects]\n",
    "    \n",
    "    return torch.stack(corrects_padded), torch.stack(incorrects_padded), torch.stack(targets)"
   ]
  },
  {
   "cell_type": "code",
   "execution_count": 3,
   "metadata": {
    "execution": {
     "iopub.execute_input": "2025-04-03T03:55:39.891110Z",
     "iopub.status.busy": "2025-04-03T03:55:39.890748Z",
     "iopub.status.idle": "2025-04-03T03:55:39.920984Z",
     "shell.execute_reply": "2025-04-03T03:55:39.920076Z",
     "shell.execute_reply.started": "2025-04-03T03:55:39.891072Z"
    },
    "trusted": true
   },
   "outputs": [],
   "source": [
    "import torch\n",
    "import torch.nn as nn\n",
    "import time\n",
    "\n",
    "class CustomModel(nn.Module):\n",
    "    def __init__(self, vocab_size=27, emb_dim=100, num_epochs=15, lr=0.001):\n",
    "        super().__init__()\n",
    "\n",
    "        self.vocab = \"abcdefghijklmnopqrstuvwxyz\"\n",
    "        self.vocab_size = len(self.vocab) + 1\n",
    "        self.ctoi = {char: idx for idx, char in enumerate(self.vocab)}\n",
    "\n",
    "        self.num_epochs = num_epochs\n",
    "        self.vocab_size = vocab_size\n",
    "        self.lstm1 = nn.LSTM(input_size=self.vocab_size, hidden_size=emb_dim, batch_first=True)\n",
    "        self.lstm2 = nn.LSTM(input_size=emb_dim, hidden_size=emb_dim, batch_first=True)\n",
    "        self.fc = nn.Linear(1, 1)\n",
    "\n",
    "        self.loss_fn = nn.L1Loss()\n",
    "        self.optimizer = torch.optim.Adam(self.parameters(), lr=lr)\n",
    "\n",
    "        self.device = torch.device('cuda' if torch.cuda.is_available() else 'cpu')\n",
    "        self.to(self.device)  \n",
    "\n",
    "        self.create_OHE()\n",
    "\n",
    "    def create_OHE(self):\n",
    "        \"\"\"Creates a One-Hot Encoding matrix for the vocabulary.\"\"\"\n",
    "        self.OHE = torch.zeros((self.vocab_size, self.vocab_size))\n",
    "        for i in range(self.vocab_size):\n",
    "            self.OHE[i, i] = 1\n",
    "\n",
    "    def get_OHE(self, word):\n",
    "        \"\"\"Converts a word into a one-hot encoding tensor.\"\"\"\n",
    "        emb = [self.OHE[self.ctoi.get(char, self.vocab_size - 1)] for char in word]\n",
    "        return torch.stack(emb)\n",
    "    \n",
    "    def fit(self, train_data, val_data=None, save_path=\"/kaggle/working\"):\n",
    "        for epoch in range(self.num_epochs):\n",
    "            start_time = time.time()\n",
    "            train_loss = 0.0\n",
    "\n",
    "            self.train()  # Set model to training mode\n",
    "            for x1, x2, target_batch in train_data:\n",
    "                x1, x2, target_batch = x1.to(self.device), x2.to(self.device), target_batch.to(self.device)\n",
    "\n",
    "                self.optimizer.zero_grad()\n",
    "                outputs = self.forward(x1, x2)\n",
    "                loss = self.loss_fn(outputs, target_batch)\n",
    "                loss.backward()\n",
    "                self.optimizer.step()\n",
    "\n",
    "                train_loss += loss.item()\n",
    "\n",
    "            avg_train_loss = train_loss / len(train_data)\n",
    "\n",
    "            # Validation loss computation\n",
    "            val_loss = 0.0\n",
    "            if val_data:\n",
    "                self.eval()  # Set model to evaluation mode\n",
    "                with torch.no_grad():\n",
    "                    for x1, x2, target_batch in val_data:\n",
    "                        x1, x2, target_batch = x1.to(self.device), x2.to(self.device), target_batch.to(self.device)\n",
    "                        outputs = self.forward(x1, x2)\n",
    "                        loss = self.loss_fn(outputs, target_batch)\n",
    "                        val_loss += loss.item()\n",
    "                \n",
    "                avg_val_loss = val_loss / len(val_data)\n",
    "            else:\n",
    "                avg_val_loss = None\n",
    "\n",
    "            epoch_time = time.time() - start_time\n",
    "            avg_time_per_batch = epoch_time / len(train_data)\n",
    "\n",
    "            print(f\"Epoch {epoch+1}/{self.num_epochs} - Train Loss: {avg_train_loss:.6f} - Val Loss: {avg_val_loss:.6f} - Time: {epoch_time:.2f}s (Avg per batch: {avg_time_per_batch:.2f}s)\")\n",
    "\n",
    "            model_filename = f\"{save_path}/model{epoch+1}.pth\"\n",
    "            self.save_model(model_filename)\n",
    "\n",
    "            if avg_train_loss <= 0.0005:\n",
    "                print(\"Training Completed\")\n",
    "                break\n",
    "\n",
    "    def get_embedding(self, x):\n",
    "        out1, _ = self.lstm1(x)\n",
    "        out2, (hn, _) = self.lstm2(out1)\n",
    "        return hn.squeeze(0) \n",
    "\n",
    "    def forward(self, x1, x2):\n",
    "        emb1 = self.get_embedding(x1)\n",
    "        emb2 = self.get_embedding(x2)\n",
    "\n",
    "        diff = emb1 - emb2\n",
    "        squared_norm = torch.sum(diff ** 2, dim=1, keepdim=True)\n",
    "\n",
    "        out = torch.sigmoid(self.fc(squared_norm))\n",
    "        return out\n",
    "    \n",
    "    def save_model(self, model_name):\n",
    "        torch.save(self.state_dict(), model_name)\n",
    "        print(f\"Model saved to {model_name}\")\n",
    "\n",
    "    def load_model(self, model_name):\n",
    "        self.load_state_dict(torch.load(model_name))\n",
    "        self.eval()  # Set the model to evaluation mode after loading\n",
    "        print(f\"Model loaded from {model_name}\")\n"
   ]
  },
  {
   "cell_type": "code",
   "execution_count": 4,
   "metadata": {
    "execution": {
     "iopub.execute_input": "2025-04-03T03:55:39.922635Z",
     "iopub.status.busy": "2025-04-03T03:55:39.922290Z",
     "iopub.status.idle": "2025-04-03T03:55:48.794523Z",
     "shell.execute_reply": "2025-04-03T03:55:48.793694Z",
     "shell.execute_reply.started": "2025-04-03T03:55:39.922604Z"
    },
    "trusted": true
   },
   "outputs": [
    {
     "name": "stdout",
     "output_type": "stream",
     "text": [
      "Train - Correct words batch shape: torch.Size([128, 16, 27])\n",
      "Train - Incorrect words batch shape: torch.Size([128, 16, 27])\n",
      "Train - Target batch shape: torch.Size([128, 1])\n",
      "Validation - Correct words batch shape: torch.Size([128, 14, 27])\n",
      "Validation - Incorrect words batch shape: torch.Size([128, 14, 27])\n",
      "Validation - Target batch shape: torch.Size([128, 1])\n"
     ]
    }
   ],
   "source": [
    "csv_path = \"/kaggle/input/d/jayjajoo01/specific-combinations/Specific Combinations.csv\"\n",
    "\n",
    "dataset = WordDataset(csv_path)  \n",
    "\n",
    "train_size = int(0.8 * len(dataset))\n",
    "val_size = len(dataset) - train_size\n",
    "train_dataset, val_dataset = random_split(dataset, [train_size, val_size])\n",
    "\n",
    "batch_size = 128\n",
    "\n",
    "train_dataloader = DataLoader(train_dataset, batch_size=batch_size, shuffle=True, collate_fn=collate_fn)\n",
    "val_dataloader = DataLoader(val_dataset, batch_size=batch_size, shuffle=False, collate_fn=collate_fn)  # No shuffle for validation\n",
    "\n",
    "for correct_batch, incorrect_batch, target_batch in train_dataloader:\n",
    "    print(f\"Train - Correct words batch shape: {correct_batch.shape}\")  \n",
    "    print(f\"Train - Incorrect words batch shape: {incorrect_batch.shape}\")  \n",
    "    print(f\"Train - Target batch shape: {target_batch.shape}\")  \n",
    "    break\n",
    "\n",
    "for correct_batch, incorrect_batch, target_batch in val_dataloader:\n",
    "    print(f\"Validation - Correct words batch shape: {correct_batch.shape}\")  \n",
    "    print(f\"Validation - Incorrect words batch shape: {incorrect_batch.shape}\")  \n",
    "    print(f\"Validation - Target batch shape: {target_batch.shape}\")  \n",
    "    break"
   ]
  },
  {
   "cell_type": "code",
   "execution_count": 5,
   "metadata": {
    "execution": {
     "iopub.execute_input": "2025-04-03T03:55:48.795633Z",
     "iopub.status.busy": "2025-04-03T03:55:48.795339Z",
     "iopub.status.idle": "2025-04-03T06:00:31.140490Z",
     "shell.execute_reply": "2025-04-03T06:00:31.139783Z",
     "shell.execute_reply.started": "2025-04-03T03:55:48.795609Z"
    },
    "trusted": true
   },
   "outputs": [
    {
     "name": "stdout",
     "output_type": "stream",
     "text": [
      "Epoch 1/15 - Train Loss: 0.029418 - Val Loss: 0.001728 - Time: 1110.24s (Avg per batch: 0.03s)\n",
      "Model saved to /kaggle/working/model1.pth\n",
      "Epoch 2/15 - Train Loss: 0.001265 - Val Loss: 0.001103 - Time: 1098.74s (Avg per batch: 0.03s)\n",
      "Model saved to /kaggle/working/model2.pth\n",
      "Epoch 3/15 - Train Loss: 0.000878 - Val Loss: 0.000932 - Time: 1047.31s (Avg per batch: 0.03s)\n",
      "Model saved to /kaggle/working/model3.pth\n",
      "Epoch 4/15 - Train Loss: 0.000692 - Val Loss: 0.000761 - Time: 1048.41s (Avg per batch: 0.03s)\n",
      "Model saved to /kaggle/working/model4.pth\n",
      "Epoch 5/15 - Train Loss: 0.000584 - Val Loss: 0.000684 - Time: 1065.45s (Avg per batch: 0.03s)\n",
      "Model saved to /kaggle/working/model5.pth\n",
      "Epoch 6/15 - Train Loss: 0.000513 - Val Loss: 0.000627 - Time: 1056.14s (Avg per batch: 0.03s)\n",
      "Model saved to /kaggle/working/model6.pth\n",
      "Epoch 7/15 - Train Loss: 0.000452 - Val Loss: 0.000612 - Time: 1053.90s (Avg per batch: 0.03s)\n",
      "Model saved to /kaggle/working/model7.pth\n",
      "Training Completed\n"
     ]
    }
   ],
   "source": [
    "model = CustomModel()\n",
    "model.fit(train_dataloader,val_dataloader)"
   ]
  },
  {
   "cell_type": "code",
   "execution_count": 6,
   "metadata": {
    "execution": {
     "iopub.execute_input": "2025-04-03T06:00:31.141692Z",
     "iopub.status.busy": "2025-04-03T06:00:31.141261Z",
     "iopub.status.idle": "2025-04-03T06:00:31.147587Z",
     "shell.execute_reply": "2025-04-03T06:00:31.146761Z",
     "shell.execute_reply.started": "2025-04-03T06:00:31.141668Z"
    },
    "trusted": true
   },
   "outputs": [
    {
     "name": "stdout",
     "output_type": "stream",
     "text": [
      "Model saved to /kaggle/working/char2vec.pth\n"
     ]
    }
   ],
   "source": [
    "model.save_model(\"/kaggle/working/char2vec.pth\")"
   ]
  },
  {
   "cell_type": "code",
   "execution_count": 7,
   "metadata": {
    "execution": {
     "iopub.execute_input": "2025-04-03T06:00:31.148642Z",
     "iopub.status.busy": "2025-04-03T06:00:31.148367Z",
     "iopub.status.idle": "2025-04-03T06:00:31.170219Z",
     "shell.execute_reply": "2025-04-03T06:00:31.169454Z",
     "shell.execute_reply.started": "2025-04-03T06:00:31.148610Z"
    },
    "trusted": true
   },
   "outputs": [
    {
     "name": "stdout",
     "output_type": "stream",
     "text": [
      "Model loaded from /kaggle/working/char2vec.pth\n"
     ]
    },
    {
     "name": "stderr",
     "output_type": "stream",
     "text": [
      "<ipython-input-3-da34c08db0e4>:104: FutureWarning: You are using `torch.load` with `weights_only=False` (the current default value), which uses the default pickle module implicitly. It is possible to construct malicious pickle data which will execute arbitrary code during unpickling (See https://github.com/pytorch/pytorch/blob/main/SECURITY.md#untrusted-models for more details). In a future release, the default value for `weights_only` will be flipped to `True`. This limits the functions that could be executed during unpickling. Arbitrary objects will no longer be allowed to be loaded via this mode unless they are explicitly allowlisted by the user via `torch.serialization.add_safe_globals`. We recommend you start setting `weights_only=True` for any use case where you don't have full control of the loaded file. Please open an issue on GitHub for any issues related to this experimental feature.\n",
      "  self.load_state_dict(torch.load(model_name))\n"
     ]
    },
    {
     "data": {
      "text/plain": [
       "CustomModel(\n",
       "  (lstm1): LSTM(27, 100, batch_first=True)\n",
       "  (lstm2): LSTM(100, 100, batch_first=True)\n",
       "  (fc): Linear(in_features=1, out_features=1, bias=True)\n",
       "  (loss_fn): L1Loss()\n",
       ")"
      ]
     },
     "execution_count": 7,
     "metadata": {},
     "output_type": "execute_result"
    }
   ],
   "source": [
    "loaded_model = CustomModel() \n",
    "loaded_model.load_model(\"/kaggle/working/char2vec.pth\")\n",
    "loaded_model"
   ]
  },
  {
   "cell_type": "code",
   "execution_count": 9,
   "metadata": {
    "execution": {
     "iopub.execute_input": "2025-04-03T06:02:28.723082Z",
     "iopub.status.busy": "2025-04-03T06:02:28.722770Z",
     "iopub.status.idle": "2025-04-03T06:02:29.081061Z",
     "shell.execute_reply": "2025-04-03T06:02:29.080163Z",
     "shell.execute_reply.started": "2025-04-03T06:02:28.723055Z"
    },
    "trusted": true
   },
   "outputs": [
    {
     "data": {
      "image/png": "[encoded data removed]",
      "text/plain": [
       "<Figure size 800x600 with 1 Axes>"
      ]
     },
     "metadata": {},
     "output_type": "display_data"
    }
   ],
   "source": [
    "correct_words = ['input', 'clumsy', 'giraffe',\"ion\",\"clutch\",\"clutched\",\"xyzasd\",\"zxy\"]\n",
    "incorrect_words = ['inpt', 'girafee', 'clumssy', 'fgiraffe', 'lumsy', \"intup\",\"lion\",\"culthc\",\"clutached\",\"xyzeasdd\",\"zyx\"]\n",
    "\n",
    "correct_embeddings = [loaded_model.get_embedding(loaded_model.get_OHE(word).to(loaded_model.device)) for word in correct_words]\n",
    "incorrect_embeddings = [loaded_model.get_embedding(loaded_model.get_OHE(word).to(loaded_model.device)) for word in incorrect_words]\n",
    "\n",
    "all_embeddings = correct_embeddings + incorrect_embeddings\n",
    "\n",
    "flattened_embeddings = [emb.flatten().cpu().detach().numpy() for emb in all_embeddings]\n",
    "\n",
    "pca = PCA(n_components=2)\n",
    "pca_result = pca.fit_transform(flattened_embeddings)\n",
    "\n",
    "plt.figure(figsize=(8, 6))\n",
    "\n",
    "for i, (word, color) in enumerate(zip(correct_words + incorrect_words, ['green'] * len(correct_words) + ['black'] * len(incorrect_words))):\n",
    "    plt.scatter(pca_result[i, 0], pca_result[i, 1], color=color)\n",
    "    plt.text(pca_result[i, 0] + 0.02, pca_result[i, 1] + 0.02, word, color=color)\n",
    "\n",
    "plt.title(\"PCA visualization of correct and incorrect spellings\")\n",
    "plt.xlabel(\"PCA Component 1\")\n",
    "plt.ylabel(\"PCA Component 2\")\n",
    "plt.grid(True)\n",
    "plt.show()"
   ]
  }
 ],
 "metadata": {
  "kaggle": {
   "accelerator": "none",
   "dataSources": [
    {
     "datasetId": 7032435,
     "sourceId": 11253352,
     "sourceType": "datasetVersion"
    },
    {
     "datasetId": 7033150,
     "sourceId": 11254292,
     "sourceType": "datasetVersion"
    }
   ],
   "dockerImageVersionId": 30919,
   "isGpuEnabled": false,
   "isInternetEnabled": true,
   "language": "python",
   "sourceType": "notebook"
  },
  "kernelspec": {
   "display_name": "PT38",
   "language": "python",
   "name": "python3"
  },
  "language_info": {
   "codemirror_mode": {
    "name": "ipython",
    "version": 3
   },
   "file_extension": ".py",
   "mimetype": "text/x-python",
   "name": "python",
   "nbconvert_exporter": "python",
   "pygments_lexer": "ipython3",
   "version": "3.8.20"
  }
 },
 "nbformat": 4,
 "nbformat_minor": 4
}
