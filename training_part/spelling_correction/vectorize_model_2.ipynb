{
 "cells": [
  {
   "cell_type": "code",
   "execution_count": 18,
   "metadata": {},
   "outputs": [],
   "source": [
    "import torch\n",
    "import torch.nn as nn\n",
    "import pandas as pd\n",
    "import numpy as np\n",
    "from torch.utils.data import DataLoader, Dataset\n",
    "import nmslib\n",
    "import matplotlib.pyplot as plt\n",
    "from sklearn.decomposition import PCA"
   ]
  },
  {
   "cell_type": "code",
   "execution_count": 36,
   "metadata": {},
   "outputs": [],
   "source": [
    "class WordDataset(Dataset):\n",
    "    def __init__(self, words):\n",
    "        \"\"\"\n",
    "        Initializes the dataset with a list of words.\n",
    "        :param words: List of words to be converted into OHE tensors.\n",
    "        \"\"\"\n",
    "        self.words = [word.lower() for word in words if isinstance(word, str)]\n",
    "        \n",
    "        # Vocabulary setup\n",
    "        self.vocab = \"abcdefghijklmnopqrstuvwxyz\"\n",
    "        self.vocab_size = len(self.vocab) + 1  # +1 for unknown characters\n",
    "        self.ctoi = {char: idx for idx, char in enumerate(self.vocab)}\n",
    "        \n",
    "        # One-Hot Encoding Matrix\n",
    "        self.create_OHE()\n",
    "    \n",
    "    def create_OHE(self):\n",
    "        \"\"\"Creates a One-Hot Encoding matrix for the vocabulary.\"\"\"\n",
    "        self.OHE = torch.eye(self.vocab_size)  # Identity matrix for one-hot encoding\n",
    "    \n",
    "    def get_OHE(self, word):\n",
    "        \"\"\"Converts a word into a one-hot encoding tensor.\"\"\"\n",
    "        emb = [self.OHE[self.ctoi.get(char, self.vocab_size - 1)] for char in word]\n",
    "        return torch.stack(emb) if emb else torch.zeros((1, self.vocab_size))\n",
    "    \n",
    "    def __len__(self):\n",
    "        return len(self.words)\n",
    "    \n",
    "    def __getitem__(self, idx):\n",
    "        \"\"\"Returns One-Hot Encoding tensor for a word.\"\"\"\n",
    "        return self.get_OHE(self.words[idx])\n",
    "\n",
    "def collate_fn(batch):\n",
    "    \"\"\"Pads sequences in a batch to the max length in the batch.\"\"\"\n",
    "    max_len = max(word.shape[0] for word in batch)\n",
    "    vocab_size = batch[0].shape[1]\n",
    "    pad_tensor = torch.zeros((max_len, vocab_size))\n",
    "    \n",
    "    padded_batch = [torch.cat((word, pad_tensor[:max_len - word.shape[0]]), dim=0) for word in batch]\n",
    "    \n",
    "    return torch.stack(padded_batch)"
   ]
  },
  {
   "cell_type": "code",
   "execution_count": 37,
   "metadata": {},
   "outputs": [],
   "source": [
    "class CustomModel(nn.Module):\n",
    "    def __init__(self, vocab_size=27, emb_dim=50, num_epochs=15, lr=0.001):\n",
    "        super().__init__()\n",
    "\n",
    "        self.vocab = \"abcdefghijklmnopqrstuvwxyz\"\n",
    "        self.vocab_size = len(self.vocab) + 1\n",
    "        self.ctoi = {char: idx for idx, char in enumerate(self.vocab)}\n",
    "\n",
    "        self.num_epochs = num_epochs\n",
    "        self.vocab_size = vocab_size\n",
    "        self.lstm1 = nn.LSTM(input_size=self.vocab_size, hidden_size=emb_dim, batch_first=True)\n",
    "        self.lstm2 = nn.LSTM(input_size=emb_dim, hidden_size=emb_dim, batch_first=True)\n",
    "        self.fc = nn.Linear(1, 1)\n",
    "\n",
    "        self.loss_fn = nn.L1Loss()\n",
    "        self.optimizer = torch.optim.Adam(self.parameters(), lr=lr)\n",
    "\n",
    "        self.device = torch.device('cuda' if torch.cuda.is_available() else 'cpu')\n",
    "        self.to(self.device)  \n",
    "\n",
    "        \n",
    "        self.create_OHE()\n",
    "\n",
    "    def create_OHE(self):\n",
    "        \"\"\"Creates a One-Hot Encoding matrix for the vocabulary.\"\"\"\n",
    "        self.OHE = torch.zeros((self.vocab_size, self.vocab_size))\n",
    "        for i in range(self.vocab_size):\n",
    "            self.OHE[i, i] = 1\n",
    "\n",
    "    def get_OHE(self, word):\n",
    "        \"\"\"Converts a word into a one-hot encoding tensor.\"\"\"\n",
    "        emb = [self.OHE[self.ctoi.get(char, self.vocab_size - 1)] for char in word]\n",
    "        return torch.stack(emb)\n",
    "    \n",
    "    def fit(self, batched_data):\n",
    "        for epoch in range(self.num_epochs):\n",
    "            epoch_loss = 0.0\n",
    "            for x1, x2, target_batch in batched_data:\n",
    "                x1, x2, target_batch = x1.to(self.device), x2.to(self.device), target_batch.to(self.device)\n",
    "\n",
    "                self.optimizer.zero_grad()\n",
    "\n",
    "                outputs = self.forward(x1, x2)\n",
    "                loss = self.loss_fn(outputs, target_batch)\n",
    "                loss.backward()\n",
    "                self.optimizer.step()\n",
    "\n",
    "                epoch_loss += loss.item()\n",
    "\n",
    "            print(f\"{epoch+1}/{self.num_epochs} - Loss: {epoch_loss / len(batched_data)}\")\n",
    "\n",
    "    def get_embedding(self, x):\n",
    "        out1, _ = self.lstm1(x)\n",
    "        out2, (hn, _) = self.lstm2(out1)\n",
    "        return hn.squeeze(0) \n",
    "\n",
    "    def forward(self, x1, x2):\n",
    "        emb1 = self.get_embedding(x1)\n",
    "        emb2 = self.get_embedding(x2)\n",
    "\n",
    "        diff = emb1 - emb2\n",
    "        squared_norm = torch.sum(diff ** 2, dim=1, keepdim=True)\n",
    "\n",
    "        out = torch.sigmoid(self.fc(squared_norm))\n",
    "        return out\n",
    "    \n",
    "    def save_model(self, model_name):\n",
    "        torch.save(self.state_dict(), model_name)\n",
    "        print(f\"Model saved to {model_name}\")\n",
    "\n",
    "    def load_model(self, model_name):\n",
    "        self.load_state_dict(torch.load(model_name))\n",
    "        self.eval()  # Set the model to evaluation mode after loading\n",
    "        print(f\"Model loaded from {model_name}\")"
   ]
  },
  {
   "cell_type": "code",
   "execution_count": 38,
   "metadata": {},
   "outputs": [
    {
     "name": "stderr",
     "output_type": "stream",
     "text": [
      "C:\\Users\\LEGION\\AppData\\Local\\Temp\\ipykernel_8024\\1506751135.py:72: FutureWarning: You are using `torch.load` with `weights_only=False` (the current default value), which uses the default pickle module implicitly. It is possible to construct malicious pickle data which will execute arbitrary code during unpickling (See https://github.com/pytorch/pytorch/blob/main/SECURITY.md#untrusted-models for more details). In a future release, the default value for `weights_only` will be flipped to `True`. This limits the functions that could be executed during unpickling. Arbitrary objects will no longer be allowed to be loaded via this mode unless they are explicitly allowlisted by the user via `torch.serialization.add_safe_globals`. We recommend you start setting `weights_only=True` for any use case where you don't have full control of the loaded file. Please open an issue on GitHub for any issues related to this experimental feature.\n",
      "  self.load_state_dict(torch.load(model_name))\n"
     ]
    },
    {
     "name": "stdout",
     "output_type": "stream",
     "text": [
      "Model loaded from ./saved_model_2/char2vec.pth\n"
     ]
    },
    {
     "data": {
      "text/plain": [
       "CustomModel(\n",
       "  (lstm1): LSTM(27, 50, batch_first=True)\n",
       "  (lstm2): LSTM(50, 50, batch_first=True)\n",
       "  (fc): Linear(in_features=1, out_features=1, bias=True)\n",
       "  (loss_fn): L1Loss()\n",
       ")"
      ]
     },
     "execution_count": 38,
     "metadata": {},
     "output_type": "execute_result"
    }
   ],
   "source": [
    "loaded_model = CustomModel() \n",
    "loaded_model.load_model(\"./saved_model_2/char2vec.pth\")\n",
    "loaded_model"
   ]
  },
  {
   "cell_type": "code",
   "execution_count": 62,
   "metadata": {},
   "outputs": [
    {
     "data": {
      "text/plain": [
       "36202"
      ]
     },
     "execution_count": 62,
     "metadata": {},
     "output_type": "execute_result"
    }
   ],
   "source": [
    "total_params = sum(p.numel() for p in loaded_model.parameters() if p.requires_grad)\n",
    "total_params"
   ]
  },
  {
   "cell_type": "code",
   "execution_count": 39,
   "metadata": {},
   "outputs": [
    {
     "data": {
      "text/plain": [
       "array(['warning', 'explore', 'troubles', ..., 'warmly', 'fists',\n",
       "       'belated'], dtype='<U18')"
      ]
     },
     "execution_count": 39,
     "metadata": {},
     "output_type": "execute_result"
    }
   ],
   "source": [
    "# dataset = pd.read_csv(\"./datasets/dict.csv\")\n",
    "# words = dataset[\"word\"]\n",
    "# words = list(set(words.to_numpy()))\n",
    "# words = [item for item in words if isinstance(item, str) and len(item)>2]\n",
    "\n",
    "words = np.load(\"./datasets/text_unique_tokens.npy\",allow_pickle = True) \n",
    "words"
   ]
  },
  {
   "cell_type": "code",
   "execution_count": 40,
   "metadata": {},
   "outputs": [],
   "source": [
    "dataset = WordDataset(words)\n",
    "dataloader = DataLoader(dataset, batch_size=128, collate_fn=collate_fn)"
   ]
  },
  {
   "cell_type": "code",
   "execution_count": 41,
   "metadata": {},
   "outputs": [],
   "source": [
    "for index, batch in enumerate(dataloader):\n",
    "    batch_embds = loaded_model.get_embedding(batch.to(loaded_model.device))\n",
    "    if index == 0:\n",
    "        embds = batch_embds  \n",
    "    else:\n",
    "        embds = torch.cat((embds, batch_embds), dim=0)  "
   ]
  },
  {
   "cell_type": "code",
   "execution_count": 42,
   "metadata": {},
   "outputs": [
    {
     "data": {
      "text/plain": [
       "torch.Size([8001, 50])"
      ]
     },
     "execution_count": 42,
     "metadata": {},
     "output_type": "execute_result"
    }
   ],
   "source": [
    "embds.shape"
   ]
  },
  {
   "cell_type": "code",
   "execution_count": 43,
   "metadata": {},
   "outputs": [],
   "source": [
    "index = nmslib.init(method=\"hnsw\", space=\"cosinesimil\")\n",
    "index.addDataPointBatch(embds.detach().cpu())\n",
    "index.createIndex({'post': 2}, print_progress=False)\n",
    "\n",
    "# Save index and word list\n",
    "index.saveIndex(\"./saved_model_2/word_index.bin\", save_data=True)\n",
    "np.save(\"./saved_model_2/word_list.npy\", words)  # Save word order"
   ]
  },
  {
   "cell_type": "code",
   "execution_count": 44,
   "metadata": {},
   "outputs": [],
   "source": [
    "index = nmslib.init(method=\"hnsw\", space=\"cosinesimil\")\n",
    "index.loadIndex(\"./saved_model_2/word_index.bin\", load_data=True)\n",
    "words = np.load(\"./saved_model_2/word_list.npy\", allow_pickle=True)"
   ]
  },
  {
   "cell_type": "code",
   "execution_count": 54,
   "metadata": {},
   "outputs": [],
   "source": [
    "query_vector = loaded_model.get_embedding(loaded_model.get_OHE(\"tanervil\").to(loaded_model.device))"
   ]
  },
  {
   "cell_type": "code",
   "execution_count": 55,
   "metadata": {},
   "outputs": [
    {
     "name": "stdout",
     "output_type": "stream",
     "text": [
      "['tankerville', 'paradoxical', 'perpetrators', 'disreputable', 'handkerchiefs', 'unimpeachable', 'intellectual', 'herefordshire', 'disgraceful', 'passionately', 'architecture', 'remonstrance', 'thoroughfare', 'consequential', 'ungenerously', 'characteristic', 'fashionable', 'uncontrollable', 'eavesdroppers', 'indiscreetly', 'incorrigible', 'imperturbably', 'conveniently', 'newspapers', 'disappearance', 'disentangled', 'considering', 'investigated', 'particulars', 'wonderfully', 'handkerchief', 'ungovernable', 'inscrutable', 'professionally', 'electronically', 'differently', 'alternately', 'unsystematic', 'inextricable', 'unfortunately', 'considerable', 'neighbourhood', 'discriminate', 'crystallised', 'reconsidered', 'accomplice', 'inarticulate', 'trail', 'comparatively', 'inexorable', 'undoubtedly', 'businesslike', 'disappeared', 'intervals', 'distributing', 'indistinguishable', 'disappointed', 'mississippi', 'approached', 'waterproof', 'agricultural', 'dangerously', 'sandwiched', 'impulsively', 'article', 'literature', 'internal', 'international', 'consequences', 'ideal', 'distributed', 'superscribed', 'neutral', 'discoloured', 'interjected', 'eerie', 'nice', 'near', 'uncomfortable', 'dishonourable', 'steal', 'balustraded', 'merryweather', 'predominates', 'central', 'basketful', 'unthinkable', 'transferred', 'transpired', 'general', 'creditable', 'interim', 'infernal', 'snarled', 'proprietor', 'stepdaughter', 'infer', 'idea', 'characterises', 'meanwhile'] [0.12869573 0.14948034 0.15779275 0.16385663 0.18223637 0.18429786\n",
      " 0.19051218 0.1945023  0.21012414 0.21051407 0.21505862 0.21636087\n",
      " 0.22553909 0.22667801 0.23275506 0.2335558  0.23376203 0.23531967\n",
      " 0.23577416 0.24953163 0.25477016 0.25922894 0.26298714 0.26310873\n",
      " 0.26687753 0.2675597  0.2689957  0.27120912 0.27155495 0.27330858\n",
      " 0.2735731  0.27783334 0.28135133 0.2836328  0.28547043 0.28644913\n",
      " 0.2865498  0.28839034 0.29026115 0.29044926 0.29772705 0.2995739\n",
      " 0.3001842  0.30024356 0.30095315 0.30522692 0.30827385 0.3083719\n",
      " 0.30880523 0.30885267 0.3113464  0.31258285 0.3135265  0.31375653\n",
      " 0.3139335  0.31625992 0.31658775 0.3168394  0.31756705 0.32044965\n",
      " 0.32450986 0.32483178 0.3260101  0.3266108  0.32691813 0.32753557\n",
      " 0.32871586 0.3316418  0.33262736 0.3357432  0.34016055 0.34034556\n",
      " 0.34038615 0.34046    0.3407325  0.34079498 0.34128594 0.34234017\n",
      " 0.34276122 0.3435542  0.34460187 0.34583217 0.34633672 0.34670728\n",
      " 0.347198   0.34833854 0.3494134  0.34965277 0.3498124  0.35107684\n",
      " 0.3510878  0.3533212  0.3560304  0.3564307  0.35748005 0.35804385\n",
      " 0.35908413 0.3592484  0.35995644 0.36049533]\n"
     ]
    }
   ],
   "source": [
    "ids, distances = index.knnQuery(query_vector.detach().cpu(), k=100)\n",
    "print([words[i] for i in ids], distances)"
   ]
  },
  {
   "cell_type": "code",
   "execution_count": 48,
   "metadata": {},
   "outputs": [
    {
     "data": {
      "image/png": "[encoded data removed]",
      "text/plain": [
       "<Figure size 800x600 with 1 Axes>"
      ]
     },
     "metadata": {},
     "output_type": "display_data"
    }
   ],
   "source": [
    "correct_words = ['input', 'clumsy', 'giraffe',\"ion\",\"clutch\",\"clutched\",\"xyzasd\",\"zxy\",\"apple\",\"tombstone\",\"grand\"]\n",
    "incorrect_words = ['inpt', 'girafee', 'clumssy', 'fgiraffe', 'lumsy', \"intup\",\"lion\",\"culthc\",\"clutached\",\"xyzeasdd\",\"zyx\",\"pple\",\"aaple\",\"ombstolle\",\"drand\",\"grannd\"]\n",
    "\n",
    "correct_embeddings = [loaded_model.get_embedding(loaded_model.get_OHE(word).to(loaded_model.device)) for word in correct_words]\n",
    "incorrect_embeddings = [loaded_model.get_embedding(loaded_model.get_OHE(word).to(loaded_model.device)) for word in incorrect_words]\n",
    "\n",
    "all_embeddings = correct_embeddings + incorrect_embeddings\n",
    "\n",
    "flattened_embeddings = [emb.flatten().cpu().detach().numpy() for emb in all_embeddings]\n",
    "\n",
    "pca = PCA(n_components=2)\n",
    "pca_result = pca.fit_transform(flattened_embeddings)\n",
    "\n",
    "plt.figure(figsize=(8, 6))\n",
    "\n",
    "for i, (word, color) in enumerate(zip(correct_words + incorrect_words, ['green'] * len(correct_words) + ['black'] * len(incorrect_words))):\n",
    "    plt.scatter(pca_result[i, 0], pca_result[i, 1], color=color)\n",
    "    plt.text(pca_result[i, 0] + 0.02, pca_result[i, 1] + 0.02, word, color=color)\n",
    "\n",
    "plt.title(\"PCA visualization of correct and incorrect spellings\")\n",
    "plt.xlabel(\"PCA Component 1\")\n",
    "plt.ylabel(\"PCA Component 2\")\n",
    "plt.grid(True)\n",
    "plt.show()"
   ]
  }
 ],
 "metadata": {
  "kernelspec": {
   "display_name": "PT38",
   "language": "python",
   "name": "python3"
  },
  "language_info": {
   "codemirror_mode": {
    "name": "ipython",
    "version": 3
   },
   "file_extension": ".py",
   "mimetype": "text/x-python",
   "name": "python",
   "nbconvert_exporter": "python",
   "pygments_lexer": "ipython3",
   "version": "3.8.20"
  }
 },
 "nbformat": 4,
 "nbformat_minor": 2
}
